{
 "cells": [
  {
   "cell_type": "markdown",
   "metadata": {},
   "source": [
    "# Load libraries"
   ]
  },
  {
   "cell_type": "code",
   "execution_count": 1,
   "metadata": {},
   "outputs": [],
   "source": [
    "import os\n",
    "from selenium import webdriver\n",
    "from selenium.webdriver.common.by import By\n",
    "\n",
    "import urllib.request\n",
    "import multiprocessing as mp\n",
    "\n",
    "import time"
   ]
  },
  {
   "cell_type": "markdown",
   "metadata": {},
   "source": [
    "# setup selenium scraper"
   ]
  },
  {
   "cell_type": "code",
   "execution_count": 2,
   "metadata": {},
   "outputs": [],
   "source": [
    "driver = webdriver.Chrome(executable_path=\"../dependencies/chromedriver\")"
   ]
  },
  {
   "cell_type": "code",
   "execution_count": 3,
   "metadata": {},
   "outputs": [],
   "source": [
    "url = \"https://podcastluisteren.nl/pod/Maarten-van-Rossem-De-Podcast\"\n",
    "driver.get(url)"
   ]
  },
  {
   "cell_type": "markdown",
   "metadata": {},
   "source": [
    "# Find podcast titles and download links"
   ]
  },
  {
   "cell_type": "code",
   "execution_count": 4,
   "metadata": {},
   "outputs": [],
   "source": [
    "elements = driver.find_elements(By.XPATH, \"//h4[@class='mt-1 text-left']\")"
   ]
  },
  {
   "cell_type": "code",
   "execution_count": 5,
   "metadata": {},
   "outputs": [],
   "source": [
    "titles = [element.text for element in elements]\n",
    "titles = [title.replace(\"/\", \"-\") for title in titles]"
   ]
  },
  {
   "cell_type": "code",
   "execution_count": 6,
   "metadata": {},
   "outputs": [],
   "source": [
    "buttons = [element.find_element(By.XPATH, \"../div/button\") for element in elements]"
   ]
  },
  {
   "cell_type": "code",
   "execution_count": 58,
   "metadata": {},
   "outputs": [],
   "source": [
    "def find_audio_path(button, audio_element):\n",
    "    # Start stream of episode\n",
    "    button.click()\n",
    "    # Pause the stream, as we only need it loaded\n",
    "    button.click()\n",
    "    time.sleep(0.01)\n",
    "    \n",
    "    src = audio_element.get_attribute(\"src\")\n",
    "    return src"
   ]
  },
  {
   "cell_type": "code",
   "execution_count": 59,
   "metadata": {},
   "outputs": [],
   "source": [
    "audio = driver.find_element(By.XPATH, \"//audio\")\n",
    "sources = [find_audio_path(button, audio) for button in buttons]"
   ]
  },
  {
   "cell_type": "markdown",
   "metadata": {},
   "source": [
    "### Write titles and src's to files"
   ]
  },
  {
   "cell_type": "code",
   "execution_count": 33,
   "metadata": {},
   "outputs": [],
   "source": [
    "file = 'Sources.txt'\n",
    "if not os.path.exists(file):\n",
    "    with open(file, 'w') as f:\n",
    "        for line in sources:\n",
    "            f.write(f\"{line}\\n\")\n",
    "else:\n",
    "    with open(file, \"r\") as f:\n",
    "        sources = f.read().splitlines()"
   ]
  },
  {
   "cell_type": "code",
   "execution_count": 36,
   "metadata": {},
   "outputs": [],
   "source": [
    "file = 'Titles.txt'\n",
    "if not os.path.exists(file):\n",
    "    with open(file, 'w') as f:\n",
    "        for line in titles:\n",
    "            f.write(f\"{line}\\n\")\n",
    "else:\n",
    "    with open(file, \"r\") as f:\n",
    "        titles = f.read().splitlines()"
   ]
  },
  {
   "cell_type": "markdown",
   "metadata": {},
   "source": [
    "# Download the mp3 files"
   ]
  },
  {
   "cell_type": "code",
   "execution_count": 39,
   "metadata": {},
   "outputs": [],
   "source": [
    "use_cores = mp.cpu_count()"
   ]
  },
  {
   "cell_type": "code",
   "execution_count": 40,
   "metadata": {},
   "outputs": [],
   "source": [
    "def download_mp3(source, title):\n",
    "    path = f\"../data/audio/{title}.mp3\"\n",
    "    if os.path.exists(path):\n",
    "        return\n",
    "    urllib.request.urlretrieve(source, path)\n",
    "    time.sleep(2)"
   ]
  },
  {
   "cell_type": "code",
   "execution_count": 41,
   "metadata": {},
   "outputs": [],
   "source": [
    "pool = mp.Pool(use_cores)\n",
    "result = pool.starmap(download_mp3, tuple(zip(sources, titles)))"
   ]
  },
  {
   "cell_type": "markdown",
   "metadata": {},
   "source": []
  }
 ],
 "metadata": {
  "interpreter": {
   "hash": "b4ef0a52c45056507e10ecccd802bcc75f860401a55f36995cd16b26ff281e34"
  },
  "kernelspec": {
   "display_name": "Python 3.9.15 ('maarten')",
   "language": "python",
   "name": "python3"
  },
  "language_info": {
   "codemirror_mode": {
    "name": "ipython",
    "version": 3
   },
   "file_extension": ".py",
   "mimetype": "text/x-python",
   "name": "python",
   "nbconvert_exporter": "python",
   "pygments_lexer": "ipython3",
   "version": "3.9.15"
  },
  "orig_nbformat": 4
 },
 "nbformat": 4,
 "nbformat_minor": 2
}
