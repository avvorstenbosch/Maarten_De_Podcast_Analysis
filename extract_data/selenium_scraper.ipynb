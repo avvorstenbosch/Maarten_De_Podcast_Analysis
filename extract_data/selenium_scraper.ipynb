{
 "cells": [
  {
   "cell_type": "markdown",
   "metadata": {},
   "source": [
    "# Load libraries"
   ]
  },
  {
   "cell_type": "code",
   "execution_count": null,
   "metadata": {},
   "outputs": [],
   "source": [
    "# base\n",
    "import re\n",
    "import os\n",
    "import pandas as pd\n",
    "\n",
    "# webscraper\n",
    "from selenium import webdriver\n",
    "from selenium.webdriver.common.by import By\n",
    "import urllib.request\n",
    "\n",
    "# multiprocessing\n",
    "import multiprocessing as mp\n",
    "\n",
    "# slow the scraper down a little\n",
    "import time\n"
   ]
  },
  {
   "cell_type": "markdown",
   "metadata": {},
   "source": [
    "# setup selenium scraper"
   ]
  },
  {
   "cell_type": "markdown",
   "metadata": {},
   "source": [
    "We use a Selenium scraper in order to retrieve the audio sources from a website. We use an interactive selenium scraper for this as it allows for us to interact with the webpage. The audio-source is included in the html page when we activate the play-button for the various episodes. There might be an easier way to extract the audio-source without needing interactivity, but for now this was already a simple enough to implement."
   ]
  },
  {
   "cell_type": "code",
   "execution_count": null,
   "metadata": {},
   "outputs": [],
   "source": [
    "driver = webdriver.Chrome(executable_path=\"../dependencies/chromedriver\")\n"
   ]
  },
  {
   "cell_type": "code",
   "execution_count": null,
   "metadata": {},
   "outputs": [],
   "source": [
    "url = \"https://podcastluisteren.nl/pod/Maarten-van-Rossem-De-Podcast\"\n",
    "driver.get(url)\n"
   ]
  },
  {
   "cell_type": "markdown",
   "metadata": {},
   "source": [
    "# Find podcast titles and download links"
   ]
  },
  {
   "cell_type": "markdown",
   "metadata": {},
   "source": [
    "We loop through the various html-elements containing episodes in order to retrieve information such as the titles, release date, duration, etc."
   ]
  },
  {
   "cell_type": "code",
   "execution_count": null,
   "metadata": {},
   "outputs": [],
   "source": [
    "elements = driver.find_elements(By.XPATH, \"//h4[@class='mt-1 text-left']\")\n"
   ]
  },
  {
   "cell_type": "code",
   "execution_count": null,
   "metadata": {},
   "outputs": [],
   "source": [
    "titles = [element.text for element in elements]\n",
    "titles = [title.replace(\"/\", \"-\") for title in titles]\n"
   ]
  },
  {
   "cell_type": "code",
   "execution_count": null,
   "metadata": {},
   "outputs": [],
   "source": [
    "data = pd.DataFrame()\n",
    "data[\"titles\"] = titles\n"
   ]
  },
  {
   "cell_type": "code",
   "execution_count": null,
   "metadata": {},
   "outputs": [],
   "source": [
    "buttons = [element.find_element(By.XPATH, \"../div/button\") for element in elements]\n"
   ]
  },
  {
   "cell_type": "code",
   "execution_count": null,
   "metadata": {},
   "outputs": [],
   "source": [
    "date_duration = driver.find_elements(By.XPATH, \"//h4[@class='text-left mb-4']\")\n",
    "date_duration = [element.text for element in date_duration]\n"
   ]
  },
  {
   "cell_type": "code",
   "execution_count": null,
   "metadata": {},
   "outputs": [],
   "source": [
    "data[\"date_and_duration\"] = date_duration\n"
   ]
  },
  {
   "cell_type": "markdown",
   "metadata": {},
   "source": [
    "Now we will interact with the webpage in order to retrieve the audio source links, which we can then use in order to download the audio files."
   ]
  },
  {
   "cell_type": "code",
   "execution_count": null,
   "metadata": {},
   "outputs": [],
   "source": [
    "def find_audio_path(button, audio_element):\n",
    "    \"\"\"\n",
    "    Start playing the audofiles and retrieve the src attribute.\n",
    "\n",
    "    The src attribute is only available after getting we start playing the audiofile.\n",
    "    The play button is clicked, making the source available.\n",
    "\n",
    "    Parameters\n",
    "    ----------\n",
    "    button: selenium.element\n",
    "        A play button on the website.\n",
    "    audio_element: selenium.element\n",
    "        The element containing the audio src.\n",
    "\n",
    "    Returnsa\n",
    "    -------\n",
    "    src: str\n",
    "        The link to the audiofile.\n",
    "    \"\"\"\n",
    "    # Start stream of episode\n",
    "    button.click()\n",
    "    # Pause the stream, as we only need it loaded\n",
    "    button.click()\n",
    "    time.sleep(0.01)\n",
    "\n",
    "    src = audio_element.get_attribute(\"src\")\n",
    "    return src\n"
   ]
  },
  {
   "cell_type": "code",
   "execution_count": null,
   "metadata": {},
   "outputs": [],
   "source": [
    "audio = driver.find_element(By.XPATH, \"//audio\")\n",
    "sources = [find_audio_path(button, audio) for button in buttons]\n"
   ]
  },
  {
   "cell_type": "code",
   "execution_count": null,
   "metadata": {},
   "outputs": [],
   "source": [
    "data[\"sources\"] = sources\n"
   ]
  },
  {
   "cell_type": "markdown",
   "metadata": {},
   "source": [
    "Here we clean and transform some of the data stored in our DataFrame."
   ]
  },
  {
   "cell_type": "code",
   "execution_count": null,
   "metadata": {},
   "outputs": [],
   "source": [
    "temp = data[\"date_and_duration\"].str.split(\"|\", n=1, expand=True)\n",
    "data[\"date\"] = temp[0]\n",
    "data[\"duration\"] = temp[1]\n",
    "data = data.drop(columns=\"date_and_duration\")\n"
   ]
  },
  {
   "cell_type": "code",
   "execution_count": null,
   "metadata": {},
   "outputs": [],
   "source": [
    "data[\"date\"] = pd.to_datetime(data[\"date\"])\n"
   ]
  },
  {
   "cell_type": "code",
   "execution_count": null,
   "metadata": {},
   "outputs": [],
   "source": [
    "episode = data[\"titles\"].str.findall(\"(?:#)(\\d+)\").str[0]\n",
    "data[\"episode\"] = episode\n"
   ]
  },
  {
   "cell_type": "code",
   "execution_count": null,
   "metadata": {},
   "outputs": [],
   "source": [
    "data[\"episode\"] = data[\"episode\"].fillna(-9999)\n",
    "data[\"episode\"] = data[\"episode\"].astype(int)\n"
   ]
  },
  {
   "cell_type": "code",
   "execution_count": null,
   "metadata": {},
   "outputs": [],
   "source": [
    "data[\"mp3_path\"] = data[\"titles\"].transform(lambda title: f\"../data/audio/{title}.mp3\")\n"
   ]
  },
  {
   "cell_type": "code",
   "execution_count": null,
   "metadata": {},
   "outputs": [],
   "source": [
    "data[\"txt_path\"] = data[\"titles\"].transform(\n",
    "    lambda title: f\"../data/text/file:{title}.mp3.txt\"\n",
    ")\n"
   ]
  },
  {
   "cell_type": "code",
   "execution_count": null,
   "metadata": {},
   "outputs": [],
   "source": [
    "data\n"
   ]
  },
  {
   "cell_type": "markdown",
   "metadata": {},
   "source": [
    "### Write data to file"
   ]
  },
  {
   "cell_type": "code",
   "execution_count": null,
   "metadata": {},
   "outputs": [],
   "source": [
    "data.to_pickle(\"data.pickle\")\n"
   ]
  },
  {
   "cell_type": "markdown",
   "metadata": {},
   "source": [
    "# Download the mp3 files"
   ]
  },
  {
   "cell_type": "code",
   "execution_count": null,
   "metadata": {},
   "outputs": [],
   "source": [
    "use_cores = mp.cpu_count()\n"
   ]
  },
  {
   "cell_type": "code",
   "execution_count": null,
   "metadata": {},
   "outputs": [],
   "source": [
    "def download_mp3(source, title):\n",
    "    \"\"\"\n",
    "    Download the audiofile from the source.\n",
    "    The episode title is used for naming the file.\n",
    "\n",
    "    Parameters\n",
    "    ----------\n",
    "    source : str\n",
    "        Link to the audiofile.\n",
    "    title : str\n",
    "        title of the episode.\n",
    "    \"\"\"\n",
    "    path = f\"../data/audio/{title}.mp3\"\n",
    "    if os.path.exists(path):\n",
    "        # if the path already exists, it is not downloaded again.\n",
    "        return\n",
    "    urllib.request.urlretrieve(source, path)\n",
    "    time.sleep(2)\n"
   ]
  },
  {
   "cell_type": "code",
   "execution_count": null,
   "metadata": {},
   "outputs": [],
   "source": [
    "pool = mp.Pool(use_cores)\n",
    "result = pool.starmap(download_mp3, tuple(zip(sources, titles)))\n"
   ]
  }
 ],
 "metadata": {
  "interpreter": {
   "hash": "b4ef0a52c45056507e10ecccd802bcc75f860401a55f36995cd16b26ff281e34"
  },
  "kernelspec": {
   "display_name": "Python 3.9.15 ('maarten')",
   "language": "python",
   "name": "python3"
  },
  "language_info": {
   "codemirror_mode": {
    "name": "ipython",
    "version": 3
   },
   "file_extension": ".py",
   "mimetype": "text/x-python",
   "name": "python",
   "nbconvert_exporter": "python",
   "pygments_lexer": "ipython3",
   "version": "3.9.15"
  },
  "orig_nbformat": 4
 },
 "nbformat": 4,
 "nbformat_minor": 2
}
