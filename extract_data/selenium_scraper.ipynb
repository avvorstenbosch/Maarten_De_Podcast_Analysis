{
 "cells": [
  {
   "cell_type": "markdown",
   "metadata": {},
   "source": [
    "# Load libraries"
   ]
  },
  {
   "cell_type": "code",
   "execution_count": 1,
   "metadata": {},
   "outputs": [],
   "source": [
    "#base\n",
    "import re\n",
    "import os\n",
    "import pandas as pd\n",
    "\n",
    "#webscraper\n",
    "from selenium import webdriver\n",
    "from selenium.webdriver.common.by import By\n",
    "import urllib.request\n",
    "\n",
    "#multiprocessing\n",
    "import multiprocessing as mp\n",
    "\n",
    "#slow the scraper down a little\n",
    "import time"
   ]
  },
  {
   "cell_type": "markdown",
   "metadata": {},
   "source": [
    "# setup selenium scraper"
   ]
  },
  {
   "cell_type": "code",
   "execution_count": 2,
   "metadata": {},
   "outputs": [],
   "source": [
    "driver = webdriver.Chrome(executable_path=\"../dependencies/chromedriver\")"
   ]
  },
  {
   "cell_type": "code",
   "execution_count": 3,
   "metadata": {},
   "outputs": [],
   "source": [
    "url = \"https://podcastluisteren.nl/pod/Maarten-van-Rossem-De-Podcast\"\n",
    "driver.get(url)"
   ]
  },
  {
   "cell_type": "markdown",
   "metadata": {},
   "source": [
    "# Find podcast titles and download links"
   ]
  },
  {
   "cell_type": "code",
   "execution_count": 41,
   "metadata": {},
   "outputs": [],
   "source": [
    "elements = driver.find_elements(By.XPATH, \"//h4[@class='mt-1 text-left']\")"
   ]
  },
  {
   "cell_type": "code",
   "execution_count": 42,
   "metadata": {},
   "outputs": [],
   "source": [
    "titles = [element.text for element in elements]\n",
    "titles = [title.replace(\"/\", \"-\") for title in titles]\n"
   ]
  },
  {
   "cell_type": "code",
   "execution_count": 43,
   "metadata": {},
   "outputs": [],
   "source": [
    "data = pd.DataFrame()\n",
    "data[\"titles\"] = titles"
   ]
  },
  {
   "cell_type": "code",
   "execution_count": 44,
   "metadata": {},
   "outputs": [],
   "source": [
    "buttons = [element.find_element(By.XPATH, \"../div/button\") for element in elements]"
   ]
  },
  {
   "cell_type": "code",
   "execution_count": 45,
   "metadata": {},
   "outputs": [],
   "source": [
    "date_duration = driver.find_elements(By.XPATH, \"//h4[@class='text-left mb-4']\")\n",
    "date_duration = [element.text for element in date_duration]"
   ]
  },
  {
   "cell_type": "code",
   "execution_count": 55,
   "metadata": {},
   "outputs": [],
   "source": [
    "data[\"date_and_duration\"] = date_duration"
   ]
  },
  {
   "cell_type": "code",
   "execution_count": 47,
   "metadata": {},
   "outputs": [],
   "source": [
    "def find_audio_path(button, audio_element):\n",
    "    # Start stream of episode\n",
    "    button.click()\n",
    "    # Pause the stream, as we only need it loaded\n",
    "    button.click()\n",
    "    time.sleep(0.01)\n",
    "    \n",
    "    src = audio_element.get_attribute(\"src\")\n",
    "    return src"
   ]
  },
  {
   "cell_type": "code",
   "execution_count": 48,
   "metadata": {},
   "outputs": [],
   "source": [
    "audio = driver.find_element(By.XPATH, \"//audio\")\n",
    "sources = [find_audio_path(button, audio) for button in buttons]"
   ]
  },
  {
   "cell_type": "code",
   "execution_count": 49,
   "metadata": {},
   "outputs": [],
   "source": [
    "data[\"sources\"] = sources"
   ]
  },
  {
   "cell_type": "code",
   "execution_count": null,
   "metadata": {},
   "outputs": [],
   "source": [
    "temp = data[\"date_and_duration\"].str.split(\"|\", n = 1, expand = True)\n",
    "data[\"date\"] = temp[0]\n",
    "data[\"duration\"] = temp[1]\n",
    "data = data.drop(columns=\"date_and_duration\")"
   ]
  },
  {
   "cell_type": "code",
   "execution_count": 84,
   "metadata": {},
   "outputs": [],
   "source": [
    "data[\"date\"] = pd.to_datetime(data['date'])"
   ]
  },
  {
   "cell_type": "code",
   "execution_count": 108,
   "metadata": {},
   "outputs": [],
   "source": [
    "episode = data[\"titles\"].str.findall(\"(?:#)(\\d+)\").str[0]\n",
    "data[\"episode\"] = episode"
   ]
  },
  {
   "cell_type": "code",
   "execution_count": 112,
   "metadata": {},
   "outputs": [
    {
     "data": {
      "text/html": [
       "<div>\n",
       "<style scoped>\n",
       "    .dataframe tbody tr th:only-of-type {\n",
       "        vertical-align: middle;\n",
       "    }\n",
       "\n",
       "    .dataframe tbody tr th {\n",
       "        vertical-align: top;\n",
       "    }\n",
       "\n",
       "    .dataframe thead th {\n",
       "        text-align: right;\n",
       "    }\n",
       "</style>\n",
       "<table border=\"1\" class=\"dataframe\">\n",
       "  <thead>\n",
       "    <tr style=\"text-align: right;\">\n",
       "      <th></th>\n",
       "      <th>titles</th>\n",
       "      <th>sources</th>\n",
       "      <th>date</th>\n",
       "      <th>duration</th>\n",
       "      <th>episode</th>\n",
       "    </tr>\n",
       "  </thead>\n",
       "  <tbody>\n",
       "    <tr>\n",
       "      <th>0</th>\n",
       "      <td>#311 - Maartens wens voor hij doodgaat</td>\n",
       "      <td>https://anchor.fm/s/21c734c4/podcast/play/6088...</td>\n",
       "      <td>2022-11-19</td>\n",
       "      <td>00:37:04</td>\n",
       "      <td>311</td>\n",
       "    </tr>\n",
       "    <tr>\n",
       "      <th>1</th>\n",
       "      <td>#310 - Aanval op Kremlin</td>\n",
       "      <td>https://anchor.fm/s/21c734c4/podcast/play/6076...</td>\n",
       "      <td>2022-11-17</td>\n",
       "      <td>00:31:36</td>\n",
       "      <td>310</td>\n",
       "    </tr>\n",
       "    <tr>\n",
       "      <th>2</th>\n",
       "      <td>Maarten en Tom op RTL 4</td>\n",
       "      <td>https://anchor.fm/s/21c734c4/podcast/play/6069...</td>\n",
       "      <td>2022-11-16</td>\n",
       "      <td>00:09:31</td>\n",
       "      <td>NaN</td>\n",
       "    </tr>\n",
       "    <tr>\n",
       "      <th>3</th>\n",
       "      <td>#309 - VVD-implosie</td>\n",
       "      <td>https://anchor.fm/s/21c734c4/podcast/play/6064...</td>\n",
       "      <td>2022-11-15</td>\n",
       "      <td>00:36:56</td>\n",
       "      <td>309</td>\n",
       "    </tr>\n",
       "    <tr>\n",
       "      <th>4</th>\n",
       "      <td>#308 - Trump gaat eraan!</td>\n",
       "      <td>https://anchor.fm/s/21c734c4/podcast/play/6055...</td>\n",
       "      <td>2022-11-13</td>\n",
       "      <td>00:39:50</td>\n",
       "      <td>308</td>\n",
       "    </tr>\n",
       "    <tr>\n",
       "      <th>...</th>\n",
       "      <td>...</td>\n",
       "      <td>...</td>\n",
       "      <td>...</td>\n",
       "      <td>...</td>\n",
       "      <td>...</td>\n",
       "    </tr>\n",
       "    <tr>\n",
       "      <th>320</th>\n",
       "      <td>#4 - Maarten van Rossem drinkt elke nacht bier</td>\n",
       "      <td>https://anchor.fm/s/21c734c4/podcast/play/1945...</td>\n",
       "      <td>2020-09-11</td>\n",
       "      <td>00:51:17</td>\n",
       "      <td>4</td>\n",
       "    </tr>\n",
       "    <tr>\n",
       "      <th>321</th>\n",
       "      <td>#3 - Je moet strakke dames van middelbare leef...</td>\n",
       "      <td>https://anchor.fm/s/21c734c4/podcast/play/1485...</td>\n",
       "      <td>2020-06-07</td>\n",
       "      <td>00:32:10</td>\n",
       "      <td>3</td>\n",
       "    </tr>\n",
       "    <tr>\n",
       "      <th>322</th>\n",
       "      <td>#2 - Heerlijk! Een zomer zonder festivals</td>\n",
       "      <td>https://anchor.fm/s/21c734c4/podcast/play/1485...</td>\n",
       "      <td>2020-06-07</td>\n",
       "      <td>00:29:11</td>\n",
       "      <td>2</td>\n",
       "    </tr>\n",
       "    <tr>\n",
       "      <th>323</th>\n",
       "      <td>#1 - De terminale arrogantie van Wopke Hoekstra</td>\n",
       "      <td>https://anchor.fm/s/21c734c4/podcast/play/1485...</td>\n",
       "      <td>2020-06-07</td>\n",
       "      <td>00:25:14</td>\n",
       "      <td>1</td>\n",
       "    </tr>\n",
       "    <tr>\n",
       "      <th>324</th>\n",
       "      <td>#0 - Trailer Maarten van Rossem De Podcast</td>\n",
       "      <td>https://anchor.fm/s/21c734c4/podcast/play/1387...</td>\n",
       "      <td>2020-05-17</td>\n",
       "      <td>00:00:42</td>\n",
       "      <td>0</td>\n",
       "    </tr>\n",
       "  </tbody>\n",
       "</table>\n",
       "<p>325 rows × 5 columns</p>\n",
       "</div>"
      ],
      "text/plain": [
       "                                                titles  \\\n",
       "0               #311 - Maartens wens voor hij doodgaat   \n",
       "1                             #310 - Aanval op Kremlin   \n",
       "2                              Maarten en Tom op RTL 4   \n",
       "3                                  #309 - VVD-implosie   \n",
       "4                             #308 - Trump gaat eraan!   \n",
       "..                                                 ...   \n",
       "320     #4 - Maarten van Rossem drinkt elke nacht bier   \n",
       "321  #3 - Je moet strakke dames van middelbare leef...   \n",
       "322          #2 - Heerlijk! Een zomer zonder festivals   \n",
       "323    #1 - De terminale arrogantie van Wopke Hoekstra   \n",
       "324         #0 - Trailer Maarten van Rossem De Podcast   \n",
       "\n",
       "                                               sources       date   duration  \\\n",
       "0    https://anchor.fm/s/21c734c4/podcast/play/6088... 2022-11-19   00:37:04   \n",
       "1    https://anchor.fm/s/21c734c4/podcast/play/6076... 2022-11-17   00:31:36   \n",
       "2    https://anchor.fm/s/21c734c4/podcast/play/6069... 2022-11-16   00:09:31   \n",
       "3    https://anchor.fm/s/21c734c4/podcast/play/6064... 2022-11-15   00:36:56   \n",
       "4    https://anchor.fm/s/21c734c4/podcast/play/6055... 2022-11-13   00:39:50   \n",
       "..                                                 ...        ...        ...   \n",
       "320  https://anchor.fm/s/21c734c4/podcast/play/1945... 2020-09-11   00:51:17   \n",
       "321  https://anchor.fm/s/21c734c4/podcast/play/1485... 2020-06-07   00:32:10   \n",
       "322  https://anchor.fm/s/21c734c4/podcast/play/1485... 2020-06-07   00:29:11   \n",
       "323  https://anchor.fm/s/21c734c4/podcast/play/1485... 2020-06-07   00:25:14   \n",
       "324  https://anchor.fm/s/21c734c4/podcast/play/1387... 2020-05-17   00:00:42   \n",
       "\n",
       "    episode  \n",
       "0       311  \n",
       "1       310  \n",
       "2       NaN  \n",
       "3       309  \n",
       "4       308  \n",
       "..      ...  \n",
       "320       4  \n",
       "321       3  \n",
       "322       2  \n",
       "323       1  \n",
       "324       0  \n",
       "\n",
       "[325 rows x 5 columns]"
      ]
     },
     "execution_count": 112,
     "metadata": {},
     "output_type": "execute_result"
    }
   ],
   "source": []
  },
  {
   "cell_type": "markdown",
   "metadata": {},
   "source": [
    "### Write data to file"
   ]
  },
  {
   "cell_type": "code",
   "execution_count": 39,
   "metadata": {},
   "outputs": [],
   "source": [
    "file = 'Sources.txt'\n",
    "if not os.path.exists(file):\n",
    "    with open(file, 'w') as f:\n",
    "        for line in sources:\n",
    "            f.write(f\"{line}\\n\")\n",
    "else:\n",
    "    with open(file, \"r\") as f:\n",
    "        sources = f.read().splitlines()"
   ]
  },
  {
   "cell_type": "code",
   "execution_count": 36,
   "metadata": {},
   "outputs": [],
   "source": [
    "file = 'Titles.txt'\n",
    "if not os.path.exists(file):\n",
    "    with open(file, 'w') as f:\n",
    "        for line in titles:\n",
    "            f.write(f\"{line}\\n\")\n",
    "else:\n",
    "    with open(file, \"r\") as f:\n",
    "        titles = f.read().splitlines()"
   ]
  },
  {
   "cell_type": "markdown",
   "metadata": {},
   "source": [
    "# Download the mp3 files"
   ]
  },
  {
   "cell_type": "code",
   "execution_count": 39,
   "metadata": {},
   "outputs": [],
   "source": [
    "use_cores = mp.cpu_count()"
   ]
  },
  {
   "cell_type": "code",
   "execution_count": 40,
   "metadata": {},
   "outputs": [],
   "source": [
    "def download_mp3(source, title):\n",
    "    path = f\"../data/audio/{title}.mp3\"\n",
    "    if os.path.exists(path):\n",
    "        return\n",
    "    urllib.request.urlretrieve(source, path)\n",
    "    time.sleep(2)"
   ]
  },
  {
   "cell_type": "code",
   "execution_count": 41,
   "metadata": {},
   "outputs": [],
   "source": [
    "pool = mp.Pool(use_cores)\n",
    "result = pool.starmap(download_mp3, tuple(zip(sources, titles)))"
   ]
  },
  {
   "cell_type": "markdown",
   "metadata": {},
   "source": []
  }
 ],
 "metadata": {
  "interpreter": {
   "hash": "b4ef0a52c45056507e10ecccd802bcc75f860401a55f36995cd16b26ff281e34"
  },
  "kernelspec": {
   "display_name": "Python 3.9.15 ('maarten')",
   "language": "python",
   "name": "python3"
  },
  "language_info": {
   "codemirror_mode": {
    "name": "ipython",
    "version": 3
   },
   "file_extension": ".py",
   "mimetype": "text/x-python",
   "name": "python",
   "nbconvert_exporter": "python",
   "pygments_lexer": "ipython3",
   "version": "3.9.15"
  },
  "orig_nbformat": 4
 },
 "nbformat": 4,
 "nbformat_minor": 2
}
