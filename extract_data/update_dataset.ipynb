{
 "cells": [
  {
   "cell_type": "markdown",
   "metadata": {},
   "source": [
    "# Update Dataset"
   ]
  },
  {
   "cell_type": "markdown",
   "metadata": {},
   "source": [
    "With this notebook, we check whether new episodes have come out, and make sure to add them to the dataset as needed. To accomplish this, we perform the following steps:\n",
    "* Check for new episodes on website\n",
    "* Download mp3 files and scrape episode information\n",
    "* Process mp3 with whisper\n",
    "* Add all relevant updates to the main dataframe\n",
    "\n",
    "Secondary to this, we also check for updated titles as this sometimes causes issues."
   ]
  },
  {
   "cell_type": "code",
   "execution_count": null,
   "metadata": {},
   "outputs": [],
   "source": [
    "#base\n",
    "import re\n",
    "import os\n",
    "import pandas as pd\n",
    "\n",
    "#webscraper\n",
    "from selenium import webdriver\n",
    "from selenium.webdriver.common.by import By\n",
    "import urllib.request\n",
    "\n",
    "#multiprocessing\n",
    "import multiprocessing as mp\n",
    "\n",
    "#slow the scraper down a little\n",
    "import time"
   ]
  },
  {
   "cell_type": "markdown",
   "metadata": {},
   "source": [
    "# Load data file"
   ]
  },
  {
   "cell_type": "code",
   "execution_count": null,
   "metadata": {},
   "outputs": [],
   "source": [
    "data = pd.read_pickle(\"../extract_data/data.pickle\")"
   ]
  },
  {
   "cell_type": "code",
   "execution_count": null,
   "metadata": {},
   "outputs": [],
   "source": [
    "data.sort_values(\"date\", ascending=False)"
   ]
  },
  {
   "cell_type": "markdown",
   "metadata": {},
   "source": [
    "# Check for new episodes"
   ]
  },
  {
   "cell_type": "code",
   "execution_count": null,
   "metadata": {},
   "outputs": [],
   "source": [
    "driver = webdriver.Chrome(executable_path=\"../dependencies/chromedriver\")\n",
    "url = \"https://podcastluisteren.nl/pod/Maarten-van-Rossem-De-Podcast\"\n",
    "driver.get(url)"
   ]
  },
  {
   "cell_type": "code",
   "execution_count": null,
   "metadata": {},
   "outputs": [],
   "source": [
    "elements = driver.find_elements(By.XPATH, \"//h4[@class='mt-1 text-left']\")"
   ]
  },
  {
   "cell_type": "code",
   "execution_count": null,
   "metadata": {},
   "outputs": [],
   "source": [
    "titles = [element.text for element in elements]\n",
    "titles = [title.replace(\"/\", \"-\") for title in titles]\n",
    "data_web = pd.DataFrame()\n",
    "data_web[\"titles\"] = titles"
   ]
  },
  {
   "cell_type": "code",
   "execution_count": null,
   "metadata": {},
   "outputs": [],
   "source": [
    "date_duration = driver.find_elements(By.XPATH, \"//h4[@class='text-left mb-4']\")\n",
    "date_duration = [element.text for element in date_duration]\n",
    "data_web[\"date_and_duration\"] = date_duration\n",
    "temp = data_web[\"date_and_duration\"].str.split(\"|\", n = 1, expand = True)\n",
    "data_web[\"date\"] = temp[0]\n",
    "data_web[\"duration\"] = temp[1]\n",
    "data_web = data_web.drop(columns=\"date_and_duration\")\n",
    "data_web[\"date\"] = pd.to_datetime(data_web['date'])"
   ]
  },
  {
   "cell_type": "code",
   "execution_count": null,
   "metadata": {},
   "outputs": [],
   "source": [
    "# data_web[\"sources\"] = sources\n",
    "episode = data_web[\"titles\"].str.findall(\"(?:#)(\\d+)\").str[0]\n",
    "data_web[\"episode\"] = episode\n",
    "data_web[\"episode\"] = data_web[\"episode\"].fillna(-9999)\n",
    "data_web[\"episode\"] = data_web[\"episode\"].astype(int)\n",
    "data_web[\"mp3_path\"] = data_web[\"titles\"].transform(lambda title: f\"../data/audio/{title}.mp3\")\n",
    "data_web[\"txt_path\"] = data_web[\"titles\"].transform(lambda title: f\"../data/text/file:{title}.mp3.txt\")"
   ]
  },
  {
   "cell_type": "code",
   "execution_count": null,
   "metadata": {},
   "outputs": [],
   "source": [
    "data_web = data_web[(data_web.date >= data.date.max()) & ~data_web.titles.isin(data.titles)]"
   ]
  },
  {
   "cell_type": "code",
   "execution_count": null,
   "metadata": {},
   "outputs": [],
   "source": [
    "updated_titles = data_web[data_web.date.isin(data.date) & data_web.duration.isin(data.duration) & data_web.episode.isin(data.episode)]\n",
    "updated_titles"
   ]
  },
  {
   "cell_type": "code",
   "execution_count": null,
   "metadata": {},
   "outputs": [],
   "source": [
    "data_web = data_web.drop(updated_titles.index, axis=0)"
   ]
  },
  {
   "cell_type": "markdown",
   "metadata": {},
   "source": [
    "# Download mp3 files and scrape episode information"
   ]
  },
  {
   "cell_type": "code",
   "execution_count": null,
   "metadata": {},
   "outputs": [],
   "source": [
    "elements = [element for element in elements if element.text.replace(\"/\", \"-\") in data_web.titles.values]\n",
    "buttons = [element.find_element(By.XPATH, \"../div/button\") for element in elements]"
   ]
  },
  {
   "cell_type": "code",
   "execution_count": null,
   "metadata": {},
   "outputs": [],
   "source": [
    "def find_audio_path(button, audio_element):\n",
    "    # Start stream of episode\n",
    "    button.click()\n",
    "    # Pause the stream, as we only need it loaded\n",
    "    button.click()\n",
    "    time.sleep(0.01)\n",
    "    \n",
    "    src = audio_element.get_attribute(\"src\")\n",
    "    return src"
   ]
  },
  {
   "cell_type": "code",
   "execution_count": null,
   "metadata": {},
   "outputs": [],
   "source": [
    "audio = driver.find_element(By.XPATH, \"//audio\")\n",
    "buttons = [element.find_element(By.XPATH, \"../div/button\") for element in elements]\n",
    "sources = [find_audio_path(button, audio) for button in buttons]"
   ]
  },
  {
   "cell_type": "code",
   "execution_count": null,
   "metadata": {},
   "outputs": [],
   "source": [
    "driver.close()"
   ]
  },
  {
   "cell_type": "code",
   "execution_count": null,
   "metadata": {},
   "outputs": [],
   "source": [
    "use_cores = mp.cpu_count()"
   ]
  },
  {
   "cell_type": "code",
   "execution_count": null,
   "metadata": {},
   "outputs": [],
   "source": [
    "def download_mp3(source, title):\n",
    "    path = f\"../data/audio/{title}.mp3\"\n",
    "    if os.path.exists(path):\n",
    "        return\n",
    "    urllib.request.urlretrieve(source, path)\n",
    "    time.sleep(2)"
   ]
  },
  {
   "cell_type": "code",
   "execution_count": null,
   "metadata": {},
   "outputs": [],
   "source": [
    "pool = mp.Pool(use_cores)\n",
    "result = pool.starmap(download_mp3, tuple(zip(sources, titles)))"
   ]
  },
  {
   "cell_type": "markdown",
   "metadata": {},
   "source": [
    "# Process mp3 with whisper\n"
   ]
  },
  {
   "cell_type": "markdown",
   "metadata": {},
   "source": [
    "with open(\"update_mp3.txt\",\"w\") as f:\n",
    "    for mp3 in data_incomplete[\"mp3_path\"]:\n",
    "        path = mp3.split(\"audio/\")[1]\n",
    "        f.write(f\"{path}\\n\")"
   ]
  },
  {
   "cell_type": "code",
   "execution_count": null,
   "metadata": {},
   "outputs": [],
   "source": [
    "data_web"
   ]
  },
  {
   "cell_type": "code",
   "execution_count": null,
   "metadata": {},
   "outputs": [],
   "source": [
    "with open(\"update_mp3.txt\",\"w\") as f:\n",
    "    for mp3 in data_web[\"mp3_path\"]:\n",
    "        path = mp3.split(\"audio/\")[1]\n",
    "        f.write(f\"{path}\\n\")"
   ]
  },
  {
   "cell_type": "code",
   "execution_count": null,
   "metadata": {},
   "outputs": [],
   "source": [
    "! ../speech_to_text/transcribe_update.sh"
   ]
  },
  {
   "cell_type": "markdown",
   "metadata": {},
   "source": [
    "# Add all relevant updates to the main dataframe"
   ]
  },
  {
   "cell_type": "code",
   "execution_count": null,
   "metadata": {},
   "outputs": [],
   "source": [
    "data_web[\"sources\"] = sources\n",
    "data = pd.concat([data, data_web])"
   ]
  },
  {
   "cell_type": "code",
   "execution_count": null,
   "metadata": {},
   "outputs": [],
   "source": [
    "data = data.sort_values(\"episode\", ascending=False).reset_index(drop=True)"
   ]
  },
  {
   "cell_type": "code",
   "execution_count": null,
   "metadata": {},
   "outputs": [],
   "source": [
    "data.to_pickle(\"../extract_data/data.pickle\")"
   ]
  }
 ],
 "metadata": {
  "interpreter": {
   "hash": "b4ef0a52c45056507e10ecccd802bcc75f860401a55f36995cd16b26ff281e34"
  },
  "kernelspec": {
   "display_name": "Python 3.9.15 ('maarten')",
   "language": "python",
   "name": "python3"
  },
  "language_info": {
   "codemirror_mode": {
    "name": "ipython",
    "version": 3
   },
   "file_extension": ".py",
   "mimetype": "text/x-python",
   "name": "python",
   "nbconvert_exporter": "python",
   "pygments_lexer": "ipython3",
   "version": "3.9.15"
  },
  "orig_nbformat": 4
 },
 "nbformat": 4,
 "nbformat_minor": 2
}
