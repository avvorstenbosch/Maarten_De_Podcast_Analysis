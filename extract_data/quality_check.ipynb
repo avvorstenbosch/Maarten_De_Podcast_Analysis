{
 "cells": [
  {
   "cell_type": "markdown",
   "metadata": {},
   "source": [
    "# Quality Check"
   ]
  },
  {
   "cell_type": "markdown",
   "metadata": {},
   "source": [
    "In this notebook, we check whether there are files for which the mp3 download has failed. While making the analysis, I noticed that some downloaded audiofiles were incomplete. By checking which episodes were incomplete in an automated fashion, we can quickly correct this error. This is done by comparing the runtime on our filesystem to the runtime on the website. A small discrepency of up to 2 seconds is allowd."
   ]
  },
  {
   "cell_type": "code",
   "execution_count": null,
   "metadata": {},
   "outputs": [],
   "source": [
    "import os\n",
    "import pandas as pd\n",
    "import ffmpeg\n",
    "import multiprocessing as mp\n",
    "import urllib.request\n",
    "import time\n"
   ]
  },
  {
   "cell_type": "code",
   "execution_count": null,
   "metadata": {},
   "outputs": [],
   "source": [
    "# Set magic number\n",
    "dt = 1 / 60 * 2  # up to 2 seconds of runtime difference is accepted.\n"
   ]
  },
  {
   "cell_type": "markdown",
   "metadata": {},
   "source": [
    "# Load data file"
   ]
  },
  {
   "cell_type": "code",
   "execution_count": null,
   "metadata": {},
   "outputs": [],
   "source": [
    "data = pd.read_pickle(\"../extract_data/data.pickle\")\n"
   ]
  },
  {
   "cell_type": "code",
   "execution_count": null,
   "metadata": {},
   "outputs": [],
   "source": [
    "data\n"
   ]
  },
  {
   "cell_type": "markdown",
   "metadata": {},
   "source": [
    "# Extract file length from .mp3"
   ]
  },
  {
   "cell_type": "code",
   "execution_count": null,
   "metadata": {},
   "outputs": [],
   "source": [
    "data[\"duration-m-file\"] = data[\"mp3_path\"].transform(\n",
    "    lambda f: float(ffmpeg.probe(f)[\"format\"][\"duration\"]) / 60\n",
    ")\n"
   ]
  },
  {
   "cell_type": "code",
   "execution_count": null,
   "metadata": {},
   "outputs": [],
   "source": [
    "data[\"duration-s\"] = pd.to_timedelta(data[\"duration\"]).dt.total_seconds()\n",
    "data[\"duration-m\"] = data[\"duration-s\"] / 60.0\n"
   ]
  },
  {
   "cell_type": "markdown",
   "metadata": {},
   "source": [
    "# Get difference in podcast length and downloaded length"
   ]
  },
  {
   "cell_type": "markdown",
   "metadata": {},
   "source": [
    "To filter out the files which were not downloaded correctly, compare the length as displayed on the website with the length we found for the downloaded files"
   ]
  },
  {
   "cell_type": "code",
   "execution_count": null,
   "metadata": {},
   "outputs": [],
   "source": [
    "data[\"length-diff-m\"] = abs(data[\"duration-m-file\"] - data[\"duration-m\"])\n"
   ]
  },
  {
   "cell_type": "code",
   "execution_count": null,
   "metadata": {},
   "outputs": [],
   "source": [
    "data_incomplete = data[data[\"length-diff-m\"] > dt]\n",
    "data_incomplete\n"
   ]
  },
  {
   "cell_type": "markdown",
   "metadata": {},
   "source": [
    "# Download incomplete files again"
   ]
  },
  {
   "cell_type": "code",
   "execution_count": null,
   "metadata": {},
   "outputs": [],
   "source": [
    "use_cores = mp.cpu_count()\n"
   ]
  },
  {
   "cell_type": "code",
   "execution_count": null,
   "metadata": {},
   "outputs": [],
   "source": [
    "def download_mp3(source, title):\n",
    "    \"\"\"\n",
    "    Download the audiofile from the source.\n",
    "    The episode title is used for naming the file.\n",
    "\n",
    "\n",
    "    Parameters\n",
    "    ----------\n",
    "    source : str\n",
    "        Link to the audiofile.\n",
    "    title : str\n",
    "        title of the episode.\n",
    "    \"\"\"\n",
    "    path = f\"../data/audio/{title}.mp3\"\n",
    "    urllib.request.urlretrieve(source, path)\n"
   ]
  },
  {
   "cell_type": "code",
   "execution_count": null,
   "metadata": {},
   "outputs": [],
   "source": [
    "pool = mp.Pool(use_cores)\n",
    "result = pool.starmap(\n",
    "    download_mp3, tuple(zip(data_incomplete[\"sources\"], data_incomplete[\"titles\"]))\n",
    ")\n"
   ]
  },
  {
   "cell_type": "code",
   "execution_count": null,
   "metadata": {},
   "outputs": [],
   "source": [
    "data_incomplete.to_pickle(\"incomplete_mp3_files.pickle\")\n"
   ]
  },
  {
   "cell_type": "markdown",
   "metadata": {},
   "source": [
    "The incomplete audiofiles are stored in a simple .txt file. When calling `transcribe_incomplete.sh` this .txt file is read to determine which files need to be processed again by `whisper`."
   ]
  },
  {
   "cell_type": "code",
   "execution_count": null,
   "metadata": {},
   "outputs": [],
   "source": [
    "with open(\"incomplete_mp3.txt\", \"w\") as f:\n",
    "    for mp3 in data_incomplete[\"mp3_path\"]:\n",
    "        path = mp3.split(\"audio/\")[1]\n",
    "        f.write(f\"{path}\\n\")\n"
   ]
  }
 ],
 "metadata": {
  "interpreter": {
   "hash": "b4ef0a52c45056507e10ecccd802bcc75f860401a55f36995cd16b26ff281e34"
  },
  "kernelspec": {
   "display_name": "Python 3.9.15 ('maarten')",
   "language": "python",
   "name": "python3"
  },
  "language_info": {
   "codemirror_mode": {
    "name": "ipython",
    "version": 3
   },
   "file_extension": ".py",
   "mimetype": "text/x-python",
   "name": "python",
   "nbconvert_exporter": "python",
   "pygments_lexer": "ipython3",
   "version": "3.9.15"
  },
  "orig_nbformat": 4
 },
 "nbformat": 4,
 "nbformat_minor": 2
}
