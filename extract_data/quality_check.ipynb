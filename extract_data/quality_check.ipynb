{
 "cells": [
  {
   "cell_type": "markdown",
   "metadata": {},
   "source": [
    "# Quality Check"
   ]
  },
  {
   "cell_type": "markdown",
   "metadata": {},
   "source": [
    "In this notebook, we check whether there are files for which the mp3 download has failed. This is done by comparing the runtime on our filesystem to the runtime on the website. A small discrepency of up to 2 seconds is allowd."
   ]
  },
  {
   "cell_type": "code",
   "execution_count": 1,
   "metadata": {},
   "outputs": [],
   "source": [
    "import os\n",
    "import pandas as pd\n",
    "import ffmpeg\n",
    "import multiprocessing as mp\n",
    "import urllib.request\n",
    "import time"
   ]
  },
  {
   "cell_type": "code",
   "execution_count": null,
   "metadata": {},
   "outputs": [],
   "source": [
    "# Set magic number \n",
    "dt = 1/60*2 # up to 2 seconds of runtime difference is accepted."
   ]
  },
  {
   "cell_type": "markdown",
   "metadata": {},
   "source": [
    "# Load data file"
   ]
  },
  {
   "cell_type": "code",
   "execution_count": 36,
   "metadata": {},
   "outputs": [],
   "source": [
    "data = pd.read_pickle(\"../extract_data/data.pickle\")"
   ]
  },
  {
   "cell_type": "code",
   "execution_count": 37,
   "metadata": {},
   "outputs": [
    {
     "data": {
      "text/html": [
       "<div>\n",
       "<style scoped>\n",
       "    .dataframe tbody tr th:only-of-type {\n",
       "        vertical-align: middle;\n",
       "    }\n",
       "\n",
       "    .dataframe tbody tr th {\n",
       "        vertical-align: top;\n",
       "    }\n",
       "\n",
       "    .dataframe thead th {\n",
       "        text-align: right;\n",
       "    }\n",
       "</style>\n",
       "<table border=\"1\" class=\"dataframe\">\n",
       "  <thead>\n",
       "    <tr style=\"text-align: right;\">\n",
       "      <th></th>\n",
       "      <th>titles</th>\n",
       "      <th>sources</th>\n",
       "      <th>date</th>\n",
       "      <th>duration</th>\n",
       "      <th>episode</th>\n",
       "      <th>mp3_path</th>\n",
       "      <th>txt_path</th>\n",
       "    </tr>\n",
       "  </thead>\n",
       "  <tbody>\n",
       "    <tr>\n",
       "      <th>0</th>\n",
       "      <td>#311 - Maartens wens voor hij doodgaat</td>\n",
       "      <td>https://anchor.fm/s/21c734c4/podcast/play/6088...</td>\n",
       "      <td>2022-11-19</td>\n",
       "      <td>00:37:04</td>\n",
       "      <td>311</td>\n",
       "      <td>../data/audio/#311 - Maartens wens voor hij do...</td>\n",
       "      <td>../data/text (copy)/file:#311 - Maartens wens ...</td>\n",
       "    </tr>\n",
       "    <tr>\n",
       "      <th>1</th>\n",
       "      <td>#310 - Aanval op Kremlin</td>\n",
       "      <td>https://anchor.fm/s/21c734c4/podcast/play/6076...</td>\n",
       "      <td>2022-11-17</td>\n",
       "      <td>00:31:36</td>\n",
       "      <td>310</td>\n",
       "      <td>../data/audio/#310 - Aanval op Kremlin.mp3</td>\n",
       "      <td>../data/text (copy)/file:#310 - Aanval op Krem...</td>\n",
       "    </tr>\n",
       "    <tr>\n",
       "      <th>2</th>\n",
       "      <td>Maarten en Tom op RTL 4</td>\n",
       "      <td>https://anchor.fm/s/21c734c4/podcast/play/6069...</td>\n",
       "      <td>2022-11-16</td>\n",
       "      <td>00:09:31</td>\n",
       "      <td>-9999</td>\n",
       "      <td>../data/audio/Maarten en Tom op RTL 4.mp3</td>\n",
       "      <td>../data/text (copy)/file:Maarten en Tom op RTL...</td>\n",
       "    </tr>\n",
       "    <tr>\n",
       "      <th>3</th>\n",
       "      <td>#309 - VVD-implosie</td>\n",
       "      <td>https://anchor.fm/s/21c734c4/podcast/play/6064...</td>\n",
       "      <td>2022-11-15</td>\n",
       "      <td>00:36:56</td>\n",
       "      <td>309</td>\n",
       "      <td>../data/audio/#309 - VVD-implosie.mp3</td>\n",
       "      <td>../data/text (copy)/file:#309 - VVD-implosie.m...</td>\n",
       "    </tr>\n",
       "    <tr>\n",
       "      <th>4</th>\n",
       "      <td>#308 - Trump gaat eraan!</td>\n",
       "      <td>https://anchor.fm/s/21c734c4/podcast/play/6055...</td>\n",
       "      <td>2022-11-13</td>\n",
       "      <td>00:39:50</td>\n",
       "      <td>308</td>\n",
       "      <td>../data/audio/#308 - Trump gaat eraan!.mp3</td>\n",
       "      <td>../data/text (copy)/file:#308 - Trump gaat era...</td>\n",
       "    </tr>\n",
       "    <tr>\n",
       "      <th>...</th>\n",
       "      <td>...</td>\n",
       "      <td>...</td>\n",
       "      <td>...</td>\n",
       "      <td>...</td>\n",
       "      <td>...</td>\n",
       "      <td>...</td>\n",
       "      <td>...</td>\n",
       "    </tr>\n",
       "    <tr>\n",
       "      <th>320</th>\n",
       "      <td>#4 - Maarten van Rossem drinkt elke nacht bier</td>\n",
       "      <td>https://anchor.fm/s/21c734c4/podcast/play/1945...</td>\n",
       "      <td>2020-09-11</td>\n",
       "      <td>00:51:17</td>\n",
       "      <td>4</td>\n",
       "      <td>../data/audio/#4 - Maarten van Rossem drinkt e...</td>\n",
       "      <td>../data/text (copy)/file:#4 - Maarten van Ross...</td>\n",
       "    </tr>\n",
       "    <tr>\n",
       "      <th>321</th>\n",
       "      <td>#3 - Je moet strakke dames van middelbare leef...</td>\n",
       "      <td>https://anchor.fm/s/21c734c4/podcast/play/1485...</td>\n",
       "      <td>2020-06-07</td>\n",
       "      <td>00:32:10</td>\n",
       "      <td>3</td>\n",
       "      <td>../data/audio/#3 - Je moet strakke dames van m...</td>\n",
       "      <td>../data/text (copy)/file:#3 - Je moet strakke ...</td>\n",
       "    </tr>\n",
       "    <tr>\n",
       "      <th>322</th>\n",
       "      <td>#2 - Heerlijk! Een zomer zonder festivals</td>\n",
       "      <td>https://anchor.fm/s/21c734c4/podcast/play/1485...</td>\n",
       "      <td>2020-06-07</td>\n",
       "      <td>00:29:11</td>\n",
       "      <td>2</td>\n",
       "      <td>../data/audio/#2 - Heerlijk! Een zomer zonder ...</td>\n",
       "      <td>../data/text (copy)/file:#2 - Heerlijk! Een zo...</td>\n",
       "    </tr>\n",
       "    <tr>\n",
       "      <th>323</th>\n",
       "      <td>#1 - De terminale arrogantie van Wopke Hoekstra</td>\n",
       "      <td>https://anchor.fm/s/21c734c4/podcast/play/1485...</td>\n",
       "      <td>2020-06-07</td>\n",
       "      <td>00:25:14</td>\n",
       "      <td>1</td>\n",
       "      <td>../data/audio/#1 - De terminale arrogantie van...</td>\n",
       "      <td>../data/text (copy)/file:#1 - De terminale arr...</td>\n",
       "    </tr>\n",
       "    <tr>\n",
       "      <th>324</th>\n",
       "      <td>#0 - Trailer Maarten van Rossem De Podcast</td>\n",
       "      <td>https://anchor.fm/s/21c734c4/podcast/play/1387...</td>\n",
       "      <td>2020-05-17</td>\n",
       "      <td>00:00:42</td>\n",
       "      <td>0</td>\n",
       "      <td>../data/audio/#0 - Trailer Maarten van Rossem ...</td>\n",
       "      <td>../data/text (copy)/file:#0 - Trailer Maarten ...</td>\n",
       "    </tr>\n",
       "  </tbody>\n",
       "</table>\n",
       "<p>325 rows × 7 columns</p>\n",
       "</div>"
      ],
      "text/plain": [
       "                                                titles  \\\n",
       "0               #311 - Maartens wens voor hij doodgaat   \n",
       "1                             #310 - Aanval op Kremlin   \n",
       "2                              Maarten en Tom op RTL 4   \n",
       "3                                  #309 - VVD-implosie   \n",
       "4                             #308 - Trump gaat eraan!   \n",
       "..                                                 ...   \n",
       "320     #4 - Maarten van Rossem drinkt elke nacht bier   \n",
       "321  #3 - Je moet strakke dames van middelbare leef...   \n",
       "322          #2 - Heerlijk! Een zomer zonder festivals   \n",
       "323    #1 - De terminale arrogantie van Wopke Hoekstra   \n",
       "324         #0 - Trailer Maarten van Rossem De Podcast   \n",
       "\n",
       "                                               sources       date   duration  \\\n",
       "0    https://anchor.fm/s/21c734c4/podcast/play/6088... 2022-11-19   00:37:04   \n",
       "1    https://anchor.fm/s/21c734c4/podcast/play/6076... 2022-11-17   00:31:36   \n",
       "2    https://anchor.fm/s/21c734c4/podcast/play/6069... 2022-11-16   00:09:31   \n",
       "3    https://anchor.fm/s/21c734c4/podcast/play/6064... 2022-11-15   00:36:56   \n",
       "4    https://anchor.fm/s/21c734c4/podcast/play/6055... 2022-11-13   00:39:50   \n",
       "..                                                 ...        ...        ...   \n",
       "320  https://anchor.fm/s/21c734c4/podcast/play/1945... 2020-09-11   00:51:17   \n",
       "321  https://anchor.fm/s/21c734c4/podcast/play/1485... 2020-06-07   00:32:10   \n",
       "322  https://anchor.fm/s/21c734c4/podcast/play/1485... 2020-06-07   00:29:11   \n",
       "323  https://anchor.fm/s/21c734c4/podcast/play/1485... 2020-06-07   00:25:14   \n",
       "324  https://anchor.fm/s/21c734c4/podcast/play/1387... 2020-05-17   00:00:42   \n",
       "\n",
       "     episode                                           mp3_path  \\\n",
       "0        311  ../data/audio/#311 - Maartens wens voor hij do...   \n",
       "1        310         ../data/audio/#310 - Aanval op Kremlin.mp3   \n",
       "2      -9999          ../data/audio/Maarten en Tom op RTL 4.mp3   \n",
       "3        309              ../data/audio/#309 - VVD-implosie.mp3   \n",
       "4        308         ../data/audio/#308 - Trump gaat eraan!.mp3   \n",
       "..       ...                                                ...   \n",
       "320        4  ../data/audio/#4 - Maarten van Rossem drinkt e...   \n",
       "321        3  ../data/audio/#3 - Je moet strakke dames van m...   \n",
       "322        2  ../data/audio/#2 - Heerlijk! Een zomer zonder ...   \n",
       "323        1  ../data/audio/#1 - De terminale arrogantie van...   \n",
       "324        0  ../data/audio/#0 - Trailer Maarten van Rossem ...   \n",
       "\n",
       "                                              txt_path  \n",
       "0    ../data/text (copy)/file:#311 - Maartens wens ...  \n",
       "1    ../data/text (copy)/file:#310 - Aanval op Krem...  \n",
       "2    ../data/text (copy)/file:Maarten en Tom op RTL...  \n",
       "3    ../data/text (copy)/file:#309 - VVD-implosie.m...  \n",
       "4    ../data/text (copy)/file:#308 - Trump gaat era...  \n",
       "..                                                 ...  \n",
       "320  ../data/text (copy)/file:#4 - Maarten van Ross...  \n",
       "321  ../data/text (copy)/file:#3 - Je moet strakke ...  \n",
       "322  ../data/text (copy)/file:#2 - Heerlijk! Een zo...  \n",
       "323  ../data/text (copy)/file:#1 - De terminale arr...  \n",
       "324  ../data/text (copy)/file:#0 - Trailer Maarten ...  \n",
       "\n",
       "[325 rows x 7 columns]"
      ]
     },
     "execution_count": 37,
     "metadata": {},
     "output_type": "execute_result"
    }
   ],
   "source": [
    "data"
   ]
  },
  {
   "cell_type": "markdown",
   "metadata": {},
   "source": [
    "# Extract file length from .mp3"
   ]
  },
  {
   "cell_type": "code",
   "execution_count": 38,
   "metadata": {},
   "outputs": [],
   "source": [
    "data[\"duration-m-file\"] = data[\"mp3_path\"].transform(lambda f: float(ffmpeg.probe(f)['format']['duration'])/60)"
   ]
  },
  {
   "cell_type": "code",
   "execution_count": 39,
   "metadata": {},
   "outputs": [],
   "source": [
    "data[\"duration-s\"] = pd.to_timedelta(data[\"duration\"]).dt.total_seconds()\n",
    "data[\"duration-m\"] = data[\"duration-s\"]/60.0"
   ]
  },
  {
   "cell_type": "markdown",
   "metadata": {},
   "source": [
    "# Get difference in podcast length and downloaded length"
   ]
  },
  {
   "cell_type": "markdown",
   "metadata": {},
   "source": [
    "To filter out the files which were not downloaded correctly, compare the length as displayed on the website with the length we found for the downloaded files"
   ]
  },
  {
   "cell_type": "code",
   "execution_count": 40,
   "metadata": {},
   "outputs": [],
   "source": [
    "data[\"length-diff-m\"] = abs(data[\"duration-m-file\"] - data[\"duration-m\"])"
   ]
  },
  {
   "cell_type": "code",
   "execution_count": 41,
   "metadata": {},
   "outputs": [
    {
     "data": {
      "text/html": [
       "<div>\n",
       "<style scoped>\n",
       "    .dataframe tbody tr th:only-of-type {\n",
       "        vertical-align: middle;\n",
       "    }\n",
       "\n",
       "    .dataframe tbody tr th {\n",
       "        vertical-align: top;\n",
       "    }\n",
       "\n",
       "    .dataframe thead th {\n",
       "        text-align: right;\n",
       "    }\n",
       "</style>\n",
       "<table border=\"1\" class=\"dataframe\">\n",
       "  <thead>\n",
       "    <tr style=\"text-align: right;\">\n",
       "      <th></th>\n",
       "      <th>titles</th>\n",
       "      <th>sources</th>\n",
       "      <th>date</th>\n",
       "      <th>duration</th>\n",
       "      <th>episode</th>\n",
       "      <th>mp3_path</th>\n",
       "      <th>txt_path</th>\n",
       "      <th>duration-m-file</th>\n",
       "      <th>duration-s</th>\n",
       "      <th>duration-m</th>\n",
       "      <th>length-diff-m</th>\n",
       "    </tr>\n",
       "  </thead>\n",
       "  <tbody>\n",
       "  </tbody>\n",
       "</table>\n",
       "</div>"
      ],
      "text/plain": [
       "Empty DataFrame\n",
       "Columns: [titles, sources, date, duration, episode, mp3_path, txt_path, duration-m-file, duration-s, duration-m, length-diff-m]\n",
       "Index: []"
      ]
     },
     "execution_count": 41,
     "metadata": {},
     "output_type": "execute_result"
    }
   ],
   "source": [
    "data_incomplete = data[data[\"length-diff-m\"] > dt]\n",
    "data_incomplete"
   ]
  },
  {
   "cell_type": "markdown",
   "metadata": {},
   "source": [
    "# Download incomplete files again"
   ]
  },
  {
   "cell_type": "code",
   "execution_count": 29,
   "metadata": {},
   "outputs": [],
   "source": [
    "use_cores = mp.cpu_count()"
   ]
  },
  {
   "cell_type": "code",
   "execution_count": 30,
   "metadata": {},
   "outputs": [],
   "source": [
    "def download_mp3(source, title):\n",
    "    path = f\"../data/audio/{title}.mp3\"\n",
    "    urllib.request.urlretrieve(source, path)"
   ]
  },
  {
   "cell_type": "code",
   "execution_count": 31,
   "metadata": {},
   "outputs": [
    {
     "ename": "NameError",
     "evalue": "name 'time' is not defined",
     "output_type": "error",
     "traceback": [
      "\u001b[0;31m---------------------------------------------------------------------------\u001b[0m",
      "\u001b[0;31mRemoteTraceback\u001b[0m                           Traceback (most recent call last)",
      "\u001b[0;31mRemoteTraceback\u001b[0m: \n\"\"\"\nTraceback (most recent call last):\n  File \"/home/alex/anaconda3/envs/maarten/lib/python3.9/multiprocessing/pool.py\", line 125, in worker\n    result = (True, func(*args, **kwds))\n  File \"/home/alex/anaconda3/envs/maarten/lib/python3.9/multiprocessing/pool.py\", line 51, in starmapstar\n    return list(itertools.starmap(args[0], args[1]))\n  File \"/tmp/ipykernel_210776/2124071982.py\", line 4, in download_mp3\n    time.sleep(2)\nNameError: name 'time' is not defined\n\"\"\"",
      "\nThe above exception was the direct cause of the following exception:\n",
      "\u001b[0;31mNameError\u001b[0m                                 Traceback (most recent call last)",
      "Cell \u001b[0;32mIn [31], line 2\u001b[0m\n\u001b[1;32m      1\u001b[0m pool \u001b[38;5;241m=\u001b[39m mp\u001b[38;5;241m.\u001b[39mPool(use_cores)\n\u001b[0;32m----> 2\u001b[0m result \u001b[38;5;241m=\u001b[39m \u001b[43mpool\u001b[49m\u001b[38;5;241;43m.\u001b[39;49m\u001b[43mstarmap\u001b[49m\u001b[43m(\u001b[49m\u001b[43mdownload_mp3\u001b[49m\u001b[43m,\u001b[49m\u001b[43m \u001b[49m\u001b[38;5;28;43mtuple\u001b[39;49m\u001b[43m(\u001b[49m\u001b[38;5;28;43mzip\u001b[39;49m\u001b[43m(\u001b[49m\u001b[43mdata_incomplete\u001b[49m\u001b[43m[\u001b[49m\u001b[38;5;124;43m\"\u001b[39;49m\u001b[38;5;124;43msources\u001b[39;49m\u001b[38;5;124;43m\"\u001b[39;49m\u001b[43m]\u001b[49m\u001b[43m,\u001b[49m\u001b[43m \u001b[49m\u001b[43mdata_incomplete\u001b[49m\u001b[43m[\u001b[49m\u001b[38;5;124;43m\"\u001b[39;49m\u001b[38;5;124;43mtitles\u001b[39;49m\u001b[38;5;124;43m\"\u001b[39;49m\u001b[43m]\u001b[49m\u001b[43m)\u001b[49m\u001b[43m)\u001b[49m\u001b[43m)\u001b[49m\n",
      "File \u001b[0;32m~/anaconda3/envs/maarten/lib/python3.9/multiprocessing/pool.py:372\u001b[0m, in \u001b[0;36mPool.starmap\u001b[0;34m(self, func, iterable, chunksize)\u001b[0m\n\u001b[1;32m    <a href='file:///home/alex/anaconda3/envs/maarten/lib/python3.9/multiprocessing/pool.py?line=365'>366</a>\u001b[0m \u001b[39mdef\u001b[39;00m \u001b[39mstarmap\u001b[39m(\u001b[39mself\u001b[39m, func, iterable, chunksize\u001b[39m=\u001b[39m\u001b[39mNone\u001b[39;00m):\n\u001b[1;32m    <a href='file:///home/alex/anaconda3/envs/maarten/lib/python3.9/multiprocessing/pool.py?line=366'>367</a>\u001b[0m     \u001b[39m'''\u001b[39;00m\n\u001b[1;32m    <a href='file:///home/alex/anaconda3/envs/maarten/lib/python3.9/multiprocessing/pool.py?line=367'>368</a>\u001b[0m \u001b[39m    Like `map()` method but the elements of the `iterable` are expected to\u001b[39;00m\n\u001b[1;32m    <a href='file:///home/alex/anaconda3/envs/maarten/lib/python3.9/multiprocessing/pool.py?line=368'>369</a>\u001b[0m \u001b[39m    be iterables as well and will be unpacked as arguments. Hence\u001b[39;00m\n\u001b[1;32m    <a href='file:///home/alex/anaconda3/envs/maarten/lib/python3.9/multiprocessing/pool.py?line=369'>370</a>\u001b[0m \u001b[39m    `func` and (a, b) becomes func(a, b).\u001b[39;00m\n\u001b[1;32m    <a href='file:///home/alex/anaconda3/envs/maarten/lib/python3.9/multiprocessing/pool.py?line=370'>371</a>\u001b[0m \u001b[39m    '''\u001b[39;00m\n\u001b[0;32m--> <a href='file:///home/alex/anaconda3/envs/maarten/lib/python3.9/multiprocessing/pool.py?line=371'>372</a>\u001b[0m     \u001b[39mreturn\u001b[39;00m \u001b[39mself\u001b[39;49m\u001b[39m.\u001b[39;49m_map_async(func, iterable, starmapstar, chunksize)\u001b[39m.\u001b[39;49mget()\n",
      "File \u001b[0;32m~/anaconda3/envs/maarten/lib/python3.9/multiprocessing/pool.py:771\u001b[0m, in \u001b[0;36mApplyResult.get\u001b[0;34m(self, timeout)\u001b[0m\n\u001b[1;32m    <a href='file:///home/alex/anaconda3/envs/maarten/lib/python3.9/multiprocessing/pool.py?line=768'>769</a>\u001b[0m     \u001b[39mreturn\u001b[39;00m \u001b[39mself\u001b[39m\u001b[39m.\u001b[39m_value\n\u001b[1;32m    <a href='file:///home/alex/anaconda3/envs/maarten/lib/python3.9/multiprocessing/pool.py?line=769'>770</a>\u001b[0m \u001b[39melse\u001b[39;00m:\n\u001b[0;32m--> <a href='file:///home/alex/anaconda3/envs/maarten/lib/python3.9/multiprocessing/pool.py?line=770'>771</a>\u001b[0m     \u001b[39mraise\u001b[39;00m \u001b[39mself\u001b[39m\u001b[39m.\u001b[39m_value\n",
      "\u001b[0;31mNameError\u001b[0m: name 'time' is not defined"
     ]
    }
   ],
   "source": [
    "pool = mp.Pool(use_cores)\n",
    "result = pool.starmap(download_mp3, tuple(zip(data_incomplete[\"sources\"], data_incomplete[\"titles\"])))"
   ]
  },
  {
   "cell_type": "code",
   "execution_count": 32,
   "metadata": {},
   "outputs": [],
   "source": [
    "data_incomplete.to_pickle(\"incomplete_mp3_files.pickle\")"
   ]
  },
  {
   "cell_type": "code",
   "execution_count": 35,
   "metadata": {},
   "outputs": [],
   "source": [
    "with open(\"incomplete_mp3.txt\",\"w\") as f:\n",
    "    for mp3 in data_incomplete[\"mp3_path\"]:\n",
    "        path = mp3.split(\"audio/\")[1]\n",
    "        f.write(f\"{path}\\n\")"
   ]
  }
 ],
 "metadata": {
  "interpreter": {
   "hash": "b4ef0a52c45056507e10ecccd802bcc75f860401a55f36995cd16b26ff281e34"
  },
  "kernelspec": {
   "display_name": "Python 3.9.15 ('maarten')",
   "language": "python",
   "name": "python3"
  },
  "language_info": {
   "codemirror_mode": {
    "name": "ipython",
    "version": 3
   },
   "file_extension": ".py",
   "mimetype": "text/x-python",
   "name": "python",
   "nbconvert_exporter": "python",
   "pygments_lexer": "ipython3",
   "version": "3.9.15"
  },
  "orig_nbformat": 4
 },
 "nbformat": 4,
 "nbformat_minor": 2
}
